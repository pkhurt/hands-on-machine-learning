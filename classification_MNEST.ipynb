{
 "cells": [
  {
   "cell_type": "markdown",
   "id": "aaa9c3f5",
   "metadata": {},
   "source": [
    "# Chapter 3\n",
    "## Classification\n",
    "p. 85"
   ]
  },
  {
   "cell_type": "code",
   "execution_count": 1,
   "id": "1d730252",
   "metadata": {},
   "outputs": [
    {
     "data": {
      "text/plain": [
       "dict_keys(['data', 'target', 'frame', 'categories', 'feature_names', 'target_names', 'DESCR', 'details', 'url'])"
      ]
     },
     "execution_count": 1,
     "metadata": {},
     "output_type": "execute_result"
    }
   ],
   "source": [
    "# download the data\n",
    "from sklearn.datasets import fetch_openml\n",
    "mnist = fetch_openml('mnist_784', version=1)\n",
    "mnist.keys()"
   ]
  },
  {
   "cell_type": "code",
   "execution_count": 2,
   "id": "6ea1e1b8",
   "metadata": {},
   "outputs": [
    {
     "data": {
      "text/plain": [
       "(70000, 784)"
      ]
     },
     "execution_count": 2,
     "metadata": {},
     "output_type": "execute_result"
    }
   ],
   "source": [
    "X,y = mnist[\"data\"], mnist[\"target\"]\n",
    "X.shape\n",
    "# 70000 images with 784 features -> 24 x 24 pixels"
   ]
  },
  {
   "cell_type": "code",
   "execution_count": 3,
   "id": "b3c8d5f2",
   "metadata": {},
   "outputs": [
    {
     "data": {
      "text/plain": [
       "(70000,)"
      ]
     },
     "execution_count": 3,
     "metadata": {},
     "output_type": "execute_result"
    }
   ],
   "source": [
    "y.shape # labels"
   ]
  },
  {
   "cell_type": "code",
   "execution_count": 4,
   "id": "80b16e5b",
   "metadata": {},
   "outputs": [
    {
     "data": {
      "image/png": "[encoded data removed]",
      "text/plain": [
       "<Figure size 432x288 with 1 Axes>"
      ]
     },
     "metadata": {
      "needs_background": "light"
     },
     "output_type": "display_data"
    }
   ],
   "source": [
    "import matplotlib as mpl\n",
    "import matplotlib.pyplot as plt\n",
    "import numpy as np\n",
    "\n",
    "y[0]\n",
    "X = X.to_numpy()\n",
    "some_digit = X[0] # first image\n",
    "some_digit_image = some_digit.reshape(28, 28) # reshape to 28 x 28 array\n",
    "\n",
    "plt.imshow(some_digit_image, cmap=\"binary\")\n",
    "plt.axis(\"off\")\n",
    "plt.show()"
   ]
  },
  {
   "cell_type": "code",
   "execution_count": 5,
   "id": "8942a5cf",
   "metadata": {},
   "outputs": [
    {
     "data": {
      "text/plain": [
       "'5'"
      ]
     },
     "execution_count": 5,
     "metadata": {},
     "output_type": "execute_result"
    }
   ],
   "source": [
    "y[0]"
   ]
  },
  {
   "cell_type": "code",
   "execution_count": 6,
   "id": "cfe65477",
   "metadata": {},
   "outputs": [],
   "source": [
    "# cast y from string to integer\n",
    "y = y.astype(np.uint8)"
   ]
  },
  {
   "cell_type": "code",
   "execution_count": 7,
   "id": "3969b330",
   "metadata": {},
   "outputs": [],
   "source": [
    "X_train, X_test, y_train, y_test = X[:60000], X[60000:], y[:60000], y[60000:]"
   ]
  },
  {
   "cell_type": "markdown",
   "id": "4bb87bc1",
   "metadata": {},
   "source": [
    "## Train the classifier\n",
    "p.88\n",
    "we focus on a one digit identifier"
   ]
  },
  {
   "cell_type": "code",
   "execution_count": 8,
   "id": "d41ca231",
   "metadata": {},
   "outputs": [],
   "source": [
    "# let's try to identify one digit - the 5\n",
    "y_train_5 = (y_train == 5) \n",
    "y_test_5 = (y_test == 5)"
   ]
  },
  {
   "cell_type": "markdown",
   "id": "ab964fa0",
   "metadata": {},
   "source": [
    "Pick a classifier: We use Stochastic Gradient Descent (SGD) -> efficient because it deals with training sets independently (one at a time) -> also good for online learning"
   ]
  },
  {
   "cell_type": "code",
   "execution_count": 9,
   "id": "b3c2f523",
   "metadata": {},
   "outputs": [
    {
     "data": {
      "text/plain": [
       "SGDClassifier(random_state=42)"
      ]
     },
     "execution_count": 9,
     "metadata": {},
     "output_type": "execute_result"
    }
   ],
   "source": [
    "# lets create an SGDClassifier and train it on the whole training set\n",
    "from sklearn.linear_model import SGDClassifier\n",
    "\n",
    "sgd_clf = SGDClassifier(random_state=42)\n",
    "sgd_clf.fit(X_train, y_train_5)"
   ]
  },
  {
   "cell_type": "code",
   "execution_count": 10,
   "id": "50873e71",
   "metadata": {},
   "outputs": [
    {
     "data": {
      "text/plain": [
       "array([ True])"
      ]
     },
     "execution_count": 10,
     "metadata": {},
     "output_type": "execute_result"
    }
   ],
   "source": [
    "# now it can be used to detect images of number 5\n",
    "sgd_clf.predict([some_digit])  # that was the first dataset"
   ]
  },
  {
   "cell_type": "markdown",
   "id": "6d0020e5",
   "metadata": {},
   "source": [
    "## Performance measures\n",
    "p. 88\n",
    "Evaluating classifiers is trickier than evaluating regressors"
   ]
  },
  {
   "cell_type": "markdown",
   "id": "eccfce9f",
   "metadata": {},
   "source": [
    "### Measuring accuracy using Cross-Validation"
   ]
  },
  {
   "cell_type": "code",
   "execution_count": 11,
   "id": "0cb925c0",
   "metadata": {},
   "outputs": [
    {
     "name": "stdout",
     "output_type": "stream",
     "text": [
      "0.9669\n",
      "0.91625\n",
      "0.96785\n"
     ]
    }
   ],
   "source": [
    "# To have more control one can also implement a cross validation himself\n",
    "from sklearn.model_selection import StratifiedKFold\n",
    "from sklearn.base import clone\n",
    "\n",
    "skfolds = StratifiedKFold(shuffle=True, n_splits=3, random_state=42)\n",
    "\n",
    "for train_index, test_index in skfolds.split(X_train, y_train_5):\n",
    "    clone_clf = clone(sgd_clf)\n",
    "    X_train_folds = X_train[train_index]\n",
    "    y_train_folds = y_train_5[train_index]\n",
    "    X_test_fold = X_train[test_index]\n",
    "    y_test_fold = y_train_5[test_index]\n",
    "    \n",
    "    clone_clf.fit(X_train_folds, y_train_folds)\n",
    "    y_pred = clone_clf.predict(X_test_fold)\n",
    "    n_correct = sum(y_pred == y_test_fold)\n",
    "    print(n_correct / len(y_pred))"
   ]
  },
  {
   "cell_type": "code",
   "execution_count": 12,
   "id": "cba6e66b",
   "metadata": {},
   "outputs": [
    {
     "data": {
      "text/plain": [
       "array([0.95035, 0.96035, 0.9604 ])"
      ]
     },
     "execution_count": 12,
     "metadata": {},
     "output_type": "execute_result"
    }
   ],
   "source": [
    "# Lets use cross_validation_score to evaluate the SGDClassifier model using 3 folds\n",
    "from sklearn.model_selection import cross_val_score\n",
    "cross_val_score(sgd_clf, X_train, y_train_5, cv=3, scoring=\"accuracy\")"
   ]
  },
  {
   "cell_type": "code",
   "execution_count": 13,
   "id": "985ae6d6",
   "metadata": {},
   "outputs": [],
   "source": [
    "# Don't be confused by the 95 % accuracy. Since only 10 % of the whole datasets are \"5\" the accuracy of a \"not 5\" \n",
    "# dummy classifier (which simply classifies everything as not 5) has an accuracy of 90 %."
   ]
  },
  {
   "cell_type": "markdown",
   "id": "76b4f72d",
   "metadata": {},
   "source": [
    "### Confusion Matrix\n",
    "p. 90 \n",
    "Much better performance evaluation. The general idea is to count the number of times instances of class A are classified as class B. e.g. to know the number of times the classifier confused images of 5s as 3s, one would look  in the fifth row and third column of the confusion matrix."
   ]
  },
  {
   "cell_type": "code",
   "execution_count": 14,
   "id": "87a9b8e9",
   "metadata": {},
   "outputs": [],
   "source": [
    "# get set of predictions to compare the to actual targets\n",
    "from sklearn.model_selection import cross_val_predict\n",
    "\n",
    "y_train_pred = cross_val_predict(sgd_clf, X_train, y_train_5, cv=3)"
   ]
  },
  {
   "cell_type": "markdown",
   "id": "bf4ad308",
   "metadata": {},
   "source": [
    "Just like the `cross_val_score()`, `cross_val_predict()` performs K-folds cross_validation. But it returns predictions that have been made on each test folds (not evaluation scores). <br>\n",
    "This means you get clean (model never saw the data during training) predictions for each instance of the training set"
   ]
  },
  {
   "cell_type": "code",
   "execution_count": 15,
   "id": "41b4299f",
   "metadata": {},
   "outputs": [
    {
     "data": {
      "text/plain": [
       "array([[53892,   687],\n",
       "       [ 1891,  3530]])"
      ]
     },
     "execution_count": 15,
     "metadata": {},
     "output_type": "execute_result"
    }
   ],
   "source": [
    "# get the confusion matrix\n",
    "from sklearn.metrics import confusion_matrix\n",
    "confusion_matrix(y_train_5, y_train_pred)"
   ]
  },
  {
   "cell_type": "markdown",
   "id": "77a1f86d",
   "metadata": {},
   "source": [
    "The first row: Non-5 images (negative class). <br>\n",
    "* 53892 true negatives (correctly as not 5 classified) -> (TN)\n",
    "* 687 false positives (wrongly as 5 classified) -> (FP)\n",
    "\n",
    "The second row: 5s images (positive class. <br>\n",
    "* 1891 false negatives (wrongly as not 5 classified) -> (FN)\n",
    "* 3530 true positives (correclty as 5 classified) -> (TP)"
   ]
  },
  {
   "cell_type": "markdown",
   "id": "5869d2d3",
   "metadata": {},
   "source": [
    "### Precision and Recall\n",
    "p.92\n",
    "precision = TP / (TP + FP)\n",
    "recall = TP / (TP + FN)"
   ]
  },
  {
   "cell_type": "code",
   "execution_count": 17,
   "id": "6492c8fd",
   "metadata": {},
   "outputs": [
    {
     "data": {
      "text/plain": [
       "0.8370879772350012"
      ]
     },
     "execution_count": 17,
     "metadata": {},
     "output_type": "execute_result"
    }
   ],
   "source": [
    "from sklearn.metrics import precision_score, recall_score\n",
    "precision_score(y_train_5, y_train_pred) # == 3530 / (3530 + 687)"
   ]
  },
  {
   "cell_type": "code",
   "execution_count": 18,
   "id": "d72d4e63",
   "metadata": {},
   "outputs": [
    {
     "data": {
      "text/plain": [
       "0.6511713705958311"
      ]
     },
     "execution_count": 18,
     "metadata": {},
     "output_type": "execute_result"
    }
   ],
   "source": [
    "recall_score(y_train_5, y_train_pred) # == 3530 / (3530 + 1891)"
   ]
  },
  {
   "cell_type": "markdown",
   "id": "8a74c910",
   "metadata": {},
   "source": [
    "<b>How to read:</b> 5-detector only correct 83.7% of the time. It detects only 65.1% of the 5s."
   ]
  },
  {
   "cell_type": "code",
   "execution_count": 19,
   "id": "e4cf8864",
   "metadata": {},
   "outputs": [
    {
     "data": {
      "text/plain": [
       "0.7325171197343846"
      ]
     },
     "execution_count": 19,
     "metadata": {},
     "output_type": "execute_result"
    }
   ],
   "source": [
    "# Combine these two values to the F1 score. (Harmonic mean)\n",
    "from sklearn.metrics import f1_score\n",
    "f1_score(y_train_5, y_train_pred)"
   ]
  },
  {
   "cell_type": "code",
   "execution_count": 20,
   "id": "8bc018c9",
   "metadata": {},
   "outputs": [
    {
     "data": {
      "text/plain": [
       "array([2164.22030239])"
      ]
     },
     "execution_count": 20,
     "metadata": {},
     "output_type": "execute_result"
    }
   ],
   "source": [
    "y_scores = sgd_clf.decision_function([some_digit])\n",
    "y_scores"
   ]
  },
  {
   "cell_type": "code",
   "execution_count": 22,
   "id": "7f88b9a6",
   "metadata": {},
   "outputs": [
    {
     "data": {
      "text/plain": [
       "array([ True])"
      ]
     },
     "execution_count": 22,
     "metadata": {},
     "output_type": "execute_result"
    }
   ],
   "source": [
    "threshold = 0\n",
    "y_some_digit_pred = (y_scores > threshold)\n",
    "y_some_digit_pred"
   ]
  },
  {
   "cell_type": "code",
   "execution_count": 23,
   "id": "9a1bba1f",
   "metadata": {},
   "outputs": [
    {
     "data": {
      "text/plain": [
       "array([False])"
      ]
     },
     "execution_count": 23,
     "metadata": {},
     "output_type": "execute_result"
    }
   ],
   "source": [
    "threshold = 8000\n",
    "y_some_digit_pred = (y_scores > threshold)\n",
    "y_some_digit_pred"
   ]
  },
  {
   "cell_type": "code",
   "execution_count": null,
   "id": "a8bd3c1a",
   "metadata": {},
   "outputs": [],
   "source": []
  }
 ],
 "metadata": {
  "kernelspec": {
   "display_name": "Python 3 (ipykernel)",
   "language": "python",
   "name": "python3"
  },
  "language_info": {
   "codemirror_mode": {
    "name": "ipython",
    "version": 3
   },
   "file_extension": ".py",
   "mimetype": "text/x-python",
   "name": "python",
   "nbconvert_exporter": "python",
   "pygments_lexer": "ipython3",
   "version": "3.8.10"
  }
 },
 "nbformat": 4,
 "nbformat_minor": 5
}
